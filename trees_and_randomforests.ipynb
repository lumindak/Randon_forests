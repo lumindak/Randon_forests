{
 "cells": [
  {
   "cell_type": "code",
   "execution_count": 11,
   "metadata": {},
   "outputs": [],
   "source": [
    "from sklearn.ensemble import RandomForestClassifier\n",
    "from sklearn.datasets import make_classification\n",
    "from sklearn import tree\n",
    "import pandas as pd\n",
    "from matplotlib import pyplot as plt"
   ]
  },
  {
   "cell_type": "code",
   "execution_count": 2,
   "metadata": {},
   "outputs": [],
   "source": [
    "X, y = make_classification(n_samples=500, n_features=4,random_state=0, shuffle=True)"
   ]
  },
  {
   "cell_type": "code",
   "execution_count": 3,
   "metadata": {},
   "outputs": [],
   "source": [
    "from sklearn.model_selection import train_test_split\n",
    "X_train, X_test, y_train, y_test = train_test_split(X,y, random_state=42)"
   ]
  },
  {
   "cell_type": "code",
   "execution_count": null,
   "metadata": {},
   "outputs": [],
   "source": [
    "\n"
   ]
  },
  {
   "cell_type": "code",
   "execution_count": null,
   "metadata": {},
   "outputs": [],
   "source": []
  },
  {
   "cell_type": "code",
   "execution_count": 4,
   "metadata": {},
   "outputs": [
    {
     "data": {
      "text/plain": [
       "0.944"
      ]
     },
     "execution_count": 4,
     "metadata": {},
     "output_type": "execute_result"
    }
   ],
   "source": [
    "##Decision tree clasifier\n",
    "clf_tree = tree.DecisionTreeClassifier()\n",
    "clf_tree = clf_tree.fit(X_train, y_train)\n",
    "clf_tree.score(X_test, y_test)"
   ]
  },
  {
   "cell_type": "code",
   "execution_count": null,
   "metadata": {},
   "outputs": [],
   "source": []
  },
  {
   "cell_type": "code",
   "execution_count": 5,
   "metadata": {},
   "outputs": [
    {
     "name": "stdout",
     "output_type": "stream",
     "text": [
      "|--- X3 <= 0.23\n",
      "|   |--- X2 <= 1.88\n",
      "|   |   |--- X4 <= -0.00\n",
      "|   |   |   |--- X2 <= -0.77\n",
      "|   |   |   |   |--- X2 <= -1.10\n",
      "|   |   |   |   |   |--- class: 1\n",
      "|   |   |   |   |--- X2 >  -1.10\n",
      "|   |   |   |   |   |--- X3 <= -0.32\n",
      "|   |   |   |   |   |   |--- class: 0\n",
      "|   |   |   |   |   |--- X3 >  -0.32\n",
      "|   |   |   |   |   |   |--- class: 1\n",
      "|   |   |   |--- X2 >  -0.77\n",
      "|   |   |   |   |--- class: 0\n",
      "|   |   |--- X4 >  -0.00\n",
      "|   |   |   |--- X2 <= -0.72\n",
      "|   |   |   |   |--- X2 <= -0.72\n",
      "|   |   |   |   |   |--- X1 <= -0.67\n",
      "|   |   |   |   |   |   |--- X4 <= 0.37\n",
      "|   |   |   |   |   |   |   |--- X3 <= -1.24\n",
      "|   |   |   |   |   |   |   |   |--- X1 <= -1.20\n",
      "|   |   |   |   |   |   |   |   |   |--- X1 <= -1.26\n",
      "|   |   |   |   |   |   |   |   |   |   |--- class: 0\n",
      "|   |   |   |   |   |   |   |   |   |--- X1 >  -1.26\n",
      "|   |   |   |   |   |   |   |   |   |   |--- class: 1\n",
      "|   |   |   |   |   |   |   |   |--- X1 >  -1.20\n",
      "|   |   |   |   |   |   |   |   |   |--- class: 0\n",
      "|   |   |   |   |   |   |   |--- X3 >  -1.24\n",
      "|   |   |   |   |   |   |   |   |--- X1 <= -0.77\n",
      "|   |   |   |   |   |   |   |   |   |--- class: 1\n",
      "|   |   |   |   |   |   |   |   |--- X1 >  -0.77\n",
      "|   |   |   |   |   |   |   |   |   |--- class: 0\n",
      "|   |   |   |   |   |   |--- X4 >  0.37\n",
      "|   |   |   |   |   |   |   |--- X1 <= -2.31\n",
      "|   |   |   |   |   |   |   |   |--- class: 0\n",
      "|   |   |   |   |   |   |   |--- X1 >  -2.31\n",
      "|   |   |   |   |   |   |   |   |--- class: 1\n",
      "|   |   |   |   |   |--- X1 >  -0.67\n",
      "|   |   |   |   |   |   |--- X3 <= -1.05\n",
      "|   |   |   |   |   |   |   |--- X3 <= -1.16\n",
      "|   |   |   |   |   |   |   |   |--- X4 <= 0.05\n",
      "|   |   |   |   |   |   |   |   |   |--- X4 <= 0.04\n",
      "|   |   |   |   |   |   |   |   |   |   |--- class: 0\n",
      "|   |   |   |   |   |   |   |   |   |--- X4 >  0.04\n",
      "|   |   |   |   |   |   |   |   |   |   |--- class: 1\n",
      "|   |   |   |   |   |   |   |   |--- X4 >  0.05\n",
      "|   |   |   |   |   |   |   |   |   |--- class: 0\n",
      "|   |   |   |   |   |   |   |--- X3 >  -1.16\n",
      "|   |   |   |   |   |   |   |   |--- class: 1\n",
      "|   |   |   |   |   |   |--- X3 >  -1.05\n",
      "|   |   |   |   |   |   |   |--- class: 0\n",
      "|   |   |   |   |--- X2 >  -0.72\n",
      "|   |   |   |   |   |--- class: 1\n",
      "|   |   |   |--- X2 >  -0.72\n",
      "|   |   |   |   |--- X1 <= -0.39\n",
      "|   |   |   |   |   |--- class: 0\n",
      "|   |   |   |   |--- X1 >  -0.39\n",
      "|   |   |   |   |   |--- X1 <= -0.35\n",
      "|   |   |   |   |   |   |--- class: 1\n",
      "|   |   |   |   |   |--- X1 >  -0.35\n",
      "|   |   |   |   |   |   |--- class: 0\n",
      "|   |--- X2 >  1.88\n",
      "|   |   |--- X1 <= -1.37\n",
      "|   |   |   |--- X2 <= 2.42\n",
      "|   |   |   |   |--- class: 0\n",
      "|   |   |   |--- X2 >  2.42\n",
      "|   |   |   |   |--- X3 <= -0.32\n",
      "|   |   |   |   |   |--- class: 1\n",
      "|   |   |   |   |--- X3 >  -0.32\n",
      "|   |   |   |   |   |--- class: 0\n",
      "|   |   |--- X1 >  -1.37\n",
      "|   |   |   |--- X4 <= 0.26\n",
      "|   |   |   |   |--- X3 <= 0.15\n",
      "|   |   |   |   |   |--- class: 1\n",
      "|   |   |   |   |--- X3 >  0.15\n",
      "|   |   |   |   |   |--- X4 <= 0.19\n",
      "|   |   |   |   |   |   |--- class: 1\n",
      "|   |   |   |   |   |--- X4 >  0.19\n",
      "|   |   |   |   |   |   |--- class: 0\n",
      "|   |   |   |--- X4 >  0.26\n",
      "|   |   |   |   |--- X2 <= 2.47\n",
      "|   |   |   |   |   |--- X2 <= 2.32\n",
      "|   |   |   |   |   |   |--- X3 <= -0.14\n",
      "|   |   |   |   |   |   |   |--- class: 0\n",
      "|   |   |   |   |   |   |--- X3 >  -0.14\n",
      "|   |   |   |   |   |   |   |--- X1 <= -0.93\n",
      "|   |   |   |   |   |   |   |   |--- class: 1\n",
      "|   |   |   |   |   |   |   |--- X1 >  -0.93\n",
      "|   |   |   |   |   |   |   |   |--- class: 0\n",
      "|   |   |   |   |   |--- X2 >  2.32\n",
      "|   |   |   |   |   |   |--- class: 1\n",
      "|   |   |   |   |--- X2 >  2.47\n",
      "|   |   |   |   |   |--- class: 0\n",
      "|--- X3 >  0.23\n",
      "|   |--- X4 <= -0.15\n",
      "|   |   |--- class: 1\n",
      "|   |--- X4 >  -0.15\n",
      "|   |   |--- X3 <= 1.13\n",
      "|   |   |   |--- X2 <= 0.55\n",
      "|   |   |   |   |--- class: 0\n",
      "|   |   |   |--- X2 >  0.55\n",
      "|   |   |   |   |--- X4 <= 0.13\n",
      "|   |   |   |   |   |--- X4 <= -0.01\n",
      "|   |   |   |   |   |   |--- X1 <= 0.34\n",
      "|   |   |   |   |   |   |   |--- X2 <= 1.06\n",
      "|   |   |   |   |   |   |   |   |--- class: 0\n",
      "|   |   |   |   |   |   |   |--- X2 >  1.06\n",
      "|   |   |   |   |   |   |   |   |--- X3 <= 0.82\n",
      "|   |   |   |   |   |   |   |   |   |--- class: 1\n",
      "|   |   |   |   |   |   |   |   |--- X3 >  0.82\n",
      "|   |   |   |   |   |   |   |   |   |--- class: 0\n",
      "|   |   |   |   |   |   |--- X1 >  0.34\n",
      "|   |   |   |   |   |   |   |--- X2 <= 1.11\n",
      "|   |   |   |   |   |   |   |   |--- class: 1\n",
      "|   |   |   |   |   |   |   |--- X2 >  1.11\n",
      "|   |   |   |   |   |   |   |   |--- X4 <= -0.05\n",
      "|   |   |   |   |   |   |   |   |   |--- class: 0\n",
      "|   |   |   |   |   |   |   |   |--- X4 >  -0.05\n",
      "|   |   |   |   |   |   |   |   |   |--- class: 1\n",
      "|   |   |   |   |   |--- X4 >  -0.01\n",
      "|   |   |   |   |   |   |--- class: 1\n",
      "|   |   |   |   |--- X4 >  0.13\n",
      "|   |   |   |   |   |--- class: 0\n",
      "|   |   |--- X3 >  1.13\n",
      "|   |   |   |--- class: 0\n",
      "\n"
     ]
    }
   ],
   "source": [
    "from sklearn.tree import export_text\n",
    "r = export_text(clf_tree, feature_names=['X1','X2','X3','X4'])\n",
    "print(r)"
   ]
  },
  {
   "cell_type": "code",
   "execution_count": 7,
   "metadata": {},
   "outputs": [
    {
     "data": {
      "text/plain": [
       "0.968"
      ]
     },
     "execution_count": 7,
     "metadata": {},
     "output_type": "execute_result"
    }
   ],
   "source": [
    "##Random Forest Clasifierr\n",
    "clf_rf = RandomForestClassifier(n_estimators=200)\n",
    "clf_rf = clf_rf.fit(X_train, y_train)\n",
    "clf_rf.score(X_test, y_test)"
   ]
  },
  {
   "cell_type": "code",
   "execution_count": 9,
   "metadata": {},
   "outputs": [
    {
     "data": {
      "text/plain": [
       "array([0.26139431, 0.16417068, 0.33304203, 0.24139298])"
      ]
     },
     "execution_count": 9,
     "metadata": {},
     "output_type": "execute_result"
    }
   ],
   "source": [
    "clf_rf.feature_importances_"
   ]
  },
  {
   "cell_type": "code",
   "execution_count": 16,
   "metadata": {},
   "outputs": [
    {
     "data": {
      "text/plain": [
       "<BarContainer object of 4 artists>"
      ]
     },
     "execution_count": 16,
     "metadata": {},
     "output_type": "execute_result"
    },
    {
     "data": {
      "image/png": "[encoded data removed]",
      "text/plain": [
       "<Figure size 432x288 with 1 Axes>"
      ]
     },
     "metadata": {
      "needs_background": "light"
     },
     "output_type": "display_data"
    }
   ],
   "source": [
    "plt.barh(['X1','X2','X3','X4'], clf_rf.feature_importances_)"
   ]
  }
 ],
 "metadata": {
  "kernelspec": {
   "display_name": "Python 3",
   "language": "python",
   "name": "python3"
  },
  "language_info": {
   "codemirror_mode": {
    "name": "ipython",
    "version": 3
   },
   "file_extension": ".py",
   "mimetype": "text/x-python",
   "name": "python",
   "nbconvert_exporter": "python",
   "pygments_lexer": "ipython3",
   "version": "3.8.5"
  }
 },
 "nbformat": 4,
 "nbformat_minor": 4
}
